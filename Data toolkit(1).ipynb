{
 "cells": [
  {
   "cell_type": "raw",
   "id": "f9900c21-c0de-4f78-a138-f45a16b6fb86",
   "metadata": {},
   "source": [
    "Q.1) What is NumPy, and why is it widely used in Python?\n",
    "NumPy (Numerical Python) is a fundamental library in Python for scientific computing and numerical operations. It provides powerful tools for working with arrays and performing mathematical operations efficiently.\n",
    "🔹 Why is NumPy widely used?\n",
    "Efficient Array Handling\n",
    "NumPy arrays (ndarray) are more memory-efficient and faster than Python lists for numerical data.\n",
    "\n",
    "Performance\n",
    "Operations on NumPy arrays are implemented in C, making them much faster than standard Python loops.\n",
    "\n",
    "Vectorized Operations\n",
    "You can perform element-wise operations without writing loops (e.g., a + b, a * b).\n",
    "\n",
    "Broad Mathematical Functionality\n",
    "NumPy includes built-in functions for linear algebra, statistics, Fourier transforms, random number generation, and more.\n",
    "\n",
    "Integration\n",
    "It integrates well with other libraries like Pandas, Matplotlib, Scikit-learn, and more.\n",
    "\n",
    "Support for Multidimensional Data\n",
    "NumPy supports n-dimensional arrays which are useful for advanced scientific computations."
   ]
  },
  {
   "cell_type": "raw",
   "id": "ef18c15c-9881-4563-8c27-82201cce99af",
   "metadata": {},
   "source": [
    "Q.2) How does broadcasting work in NumPy?\n",
    "Broadcasting is a powerful mechanism in NumPy that allows arrays of different shapes to be used in arithmetic operations without explicitly copying data or reshaping arrays.\n",
    "🔹 Basic Broadcasting Rules:\n",
    "If arrays have different shapes, NumPy compares them element-wise from the trailing (right-most) dimension.\n",
    "\n",
    "Two dimensions are compatible when:\n",
    "They are equal, or\n",
    "One of them is 1\n",
    "\n",
    "If dimensions are not compatible, a broadcasting error occurs."
   ]
  },
  {
   "cell_type": "raw",
   "id": "d7d3ae24-5376-4836-abb2-07872b2abc3c",
   "metadata": {},
   "source": [
    "Q.3) What is a Pandas DataFrame?\n",
    "A Pandas DataFrame is a two-dimensional, tabular data structure in Python provided by the pandas library. It is similar to an Excel spreadsheet or a SQL table, with rows and columns.\n",
    "\n",
    "🔹 Key Characteristics of a DataFrame:\n",
    "Labeled axes: Rows and columns are both labeled.\n",
    "Heterogeneous data: Each column can contain different data types (e.g., integers, strings, floats).\n",
    "Size mutable: You can insert and delete columns or rows.\n",
    "Built-in functions: Pandas offers powerful methods for filtering, grouping, merging, plotting, etc."
   ]
  },
  {
   "cell_type": "raw",
   "id": "912e7e00-9cf4-498b-b11e-d131d1948fe5",
   "metadata": {},
   "source": [
    "Q.4) Explain the use of the groupby() method in Pandas.\n",
    "The groupby() method in Pandas is used to split the data into groups based on some criteria, apply a function to each group, and then combine the results. This is known as the split-apply-combine strategy.\n",
    "\n",
    "🔹 Purpose of groupby()\n",
    "It is used for:\n",
    "Grouping data based on values in one or more columns.\n",
    "Performing aggregation (like sum(), mean(), count(), etc.) on each group.\n",
    "Simplifying analysis of categorized data."
   ]
  },
  {
   "cell_type": "raw",
   "id": "70e78d20-d795-4788-bd89-5f14a72e4950",
   "metadata": {},
   "source": [
    "Q.5) Why is Seaborn preferred for statistical visualizations?\n",
    "Seaborn is preferred for statistical visualizations in Python because it is specifically designed to make complex statistical plots easier to create and interpret. Below are the main reasons why:\n",
    "\n",
    "🔹 1. Built-in support for statistical plots\n",
    "Seaborn provides high-level functions to create plots like:\n",
    "Box plots (boxplot) for distribution and outliers\n",
    "Violin plots (violinplot) for distribution shape\n",
    "Heatmaps (heatmap) for correlation matrices\n",
    "Pair plots (pairplot) for exploring relationships between features\n",
    "Regression plots (regplot, lmplot) with trend lines and confidence intervals\n",
    "\n",
    "🔹 2. Beautiful default themes\n",
    "Seaborn comes with aesthetically pleasing styles that improve readability and appearance without much customization.\n",
    "\n",
    "🔹 3. Tight integration with Pandas\n",
    "You can directly pass a Pandas DataFrame and column names, which simplifies the process of plotting real-world datasets.\n",
    "\n",
    "🔹 4. Automatic handling of statistical estimation\n",
    "Functions like barplot() and pointplot() automatically compute confidence intervals, error bars, or aggregate statistics, saving time and effort.\n",
    "\n",
    "🔹 5. Combines multiple data features\n",
    "Seaborn makes it easy to visualize multiple dimensions of data using hue, style, or size arguments—great for multivariate analysis.\n",
    "\n",
    "🔹 6. Customization and flexibility\n",
    "Although Seaborn is higher-level, it is built on Matplotlib, so you can customize it further using Matplotlib commands."
   ]
  },
  {
   "cell_type": "raw",
   "id": "eec40be7-1c2f-4dcc-a3cc-318e1548e02a",
   "metadata": {},
   "source": [
    "Q.6) What are the differences between NumPy arrays and Python lists?\n",
    "🔹 1. Performance & Speed\n",
    "NumPy arrays are much faster than Python lists for numerical operations because they use contiguous memory and are implemented in C.\n",
    "\n",
    "Python lists are slower and inefficient for large-scale numerical computations.\n",
    "\n",
    "🔹 2. Data Type\n",
    "NumPy arrays are homogeneous: all elements must be of the same data type (e.g., all integers or all floats).\n",
    "\n",
    "Python lists are heterogeneous: they can contain elements of different data types (e.g., [1, 'a', 3.5]).\n",
    "\n",
    "🔹 3. Functionality\n",
    "NumPy arrays support powerful vectorized operations (e.g., arr1 + arr2) and broadcasting, allowing operations on entire arrays without loops.\n",
    "\n",
    "Python lists require explicit loops to perform operations element-wise.\n",
    "\n",
    "🔹 4. Memory Efficiency\n",
    "NumPy arrays consume less memory than Python lists for storing numerical data.\n",
    "\n",
    "Python lists use more memory due to overhead of storing mixed data types and references.\n",
    "\n",
    "🔹 5. Built-in Methods\n",
    "NumPy provides many mathematical and statistical functions (mean(), sum(), std(), etc.) directly on arrays.\n",
    "\n",
    "Python lists have fewer built-in methods and need external functions or loops for calculations.\n",
    "\n",
    "🔹 6. Multidimensional Support\n",
    "NumPy arrays support multi-dimensional arrays (like matrices, tensors) easily.\n",
    "\n",
    "Python lists can simulate 2D lists (e.g., [[1,2],[3,4]]) but are harder to manage and less efficient."
   ]
  },
  {
   "cell_type": "raw",
   "id": "3043c040-5653-411b-8b53-34b993508a61",
   "metadata": {},
   "source": [
    "Q.7) What is a heatmap, and when should it be used?\n",
    "A heatmap is a data visualization technique that represents data values as colors in a two-dimensional grid. Each cell in the grid shows a value with a color gradient — typically, darker or more intense colors indicate higher values, and lighter colors indicate lower values.\n",
    "\n",
    "🔹 When to Use a Heatmap:\n",
    "To Show Correlation Between Variables\n",
    "\n",
    "Common in data science to visualize the correlation matrix using Seaborn or Matplotlib.\n",
    "\n",
    "Example: Visualizing how \"Height\" and \"Weight\" are related.\n",
    "\n",
    "To Detect Patterns or Outliers\n",
    "\n",
    "Heatmaps make it easy to spot trends, clusters, or anomalies in large datasets.\n",
    "\n",
    "To Represent Matrix-Like Data\n",
    "\n",
    "Useful for showing confusion matrices, distance matrices, or pivot tables.\n",
    "\n",
    "To Display Large Quantitative Datasets\n",
    "\n",
    "Especially when visualizing values across two categorical variables, like sales by region and product."
   ]
  },
  {
   "cell_type": "raw",
   "id": "3843ae0c-89f3-4e0b-ad90-2bdd9f94ad53",
   "metadata": {},
   "source": [
    "Q.8) What does the term “vectorized operation” mean in NumPy?\n",
    "In NumPy, a vectorized operation refers to performing element-wise operations on entire arrays without using explicit loops (like for or while loops). It allows you to apply a function or operator to an entire array (or arrays) efficiently and in one step."
   ]
  },
  {
   "cell_type": "raw",
   "id": "f213e8a7-007e-442a-a8aa-d06e8937e040",
   "metadata": {},
   "source": [
    "Q.9) How does Matplotlib differ from Plotly?\n",
    "🔹 Matplotlib:\n",
    "Type: Static, 2D (with limited 3D via mpl_toolkits)\n",
    "Interactivity: Minimal (e.g., zoom, pan in GUI windows)\n",
    "Use Case: Quick plotting, publication-quality graphs, and traditional scientific visualizations\n",
    "Customization: Highly customizable but may require more code\n",
    "Output Format: Static images (PNG, SVG, PDF)\n",
    "Popularity: Very widely used in academic and scientific computing\n",
    "\n",
    "🔸 Plotly:\n",
    "Type: Interactive and web-based (supports 2D and 3D)\n",
    "Interactivity: High (hover info, zoom, rotate, tooltips)\n",
    "Use Case: Dashboards, web apps, interactive reports\n",
    "Customization: Easier to add interactive features\n",
    "Output Format: Interactive HTML (can also export images)\n",
    "Integration: Works well with Jupyter Notebook, Dash apps"
   ]
  },
  {
   "cell_type": "raw",
   "id": "ac55dd38-acff-464f-826e-c6ae76f47b30",
   "metadata": {},
   "source": [
    "Q.10) What is the significance of hierarchical indexing in Pandas?\n",
    "🔹 Significance of Hierarchical Indexing in Pandas:\n",
    "Organizes complex data:\n",
    "It enables storing and accessing data that is naturally hierarchical (e.g., country → state → city).\n",
    "\n",
    "Supports advanced slicing and subsetting:\n",
    "You can easily filter data at multiple levels of the index using .loc[], .xs(), and other methods.\n",
    "\n",
    "Improves readability and structure:\n",
    "Especially useful when you want to group data by more than one variable (e.g., year and month).\n",
    "\n",
    "Enables reshaping of data:\n",
    "You can pivot, unstack, or stack data cleanly and efficiently with multi-level indexes.\n",
    "\n",
    "Efficient grouping and aggregation:\n",
    "When performing operations like groupby(), hierarchical indexing allows you to manage grouped results effectively."
   ]
  },
  {
   "cell_type": "raw",
   "id": "bf67cfa3-1147-468c-90c5-c9ccb676b5d5",
   "metadata": {},
   "source": [
    "Q.11) What is the role of Seaborn’s pairplot() function?\n",
    "🔹 Role of pairplot() in Seaborn:\n",
    "Plots relationships between every pair of variables:\n",
    "It creates scatter plots for all numeric variable pairs and histograms or KDEs on the diagonal.\n",
    "\n",
    "Exploratory Data Analysis (EDA):\n",
    "Helps detect patterns, trends, correlations, and outliers across multiple features.\n",
    "\n",
    "Automatic handling of categories:\n",
    "If a hue is specified, it will color-code points by category, allowing you to observe class separation.\n",
    "\n",
    "Compact and efficient:\n",
    "Instead of creating multiple plots manually, pairplot() automates the process in one command."
   ]
  },
  {
   "cell_type": "raw",
   "id": "2e7bdc26-1b35-4000-93bd-5f9017b1af4f",
   "metadata": {},
   "source": [
    "Q.12) What is the purpose of the describe() function in Pandas?\n",
    "🔹 Purpose of describe():\n",
    "Summarize numeric columns by default.\n",
    "\n",
    "Gives essential statistics such as:\n",
    "\n",
    "count: Total number of non-null entries\n",
    "\n",
    "mean: Average of the values\n",
    "\n",
    "std: Standard deviation\n",
    "\n",
    "min: Minimum value\n",
    "\n",
    "25%, 50%, 75%: Percentiles (quartiles)\n",
    "\n",
    "max: Maximum value"
   ]
  },
  {
   "cell_type": "raw",
   "id": "c787f36a-b636-464e-92a8-ffab2dd94357",
   "metadata": {},
   "source": [
    "Q.13) Why is handling missing data important in Pandas?\n",
    "Handling missing data in Pandas is important because:\n",
    "\n",
    "🔹 1. Maintains Data Quality\n",
    "Missing values can distort statistical summaries, visualizations, and model performance. Proper handling ensures accurate insights.\n",
    "\n",
    "🔹 2. Prevents Errors in Computation\n",
    "Many Pandas and NumPy functions (like mean, sum, groupby, etc.) may return incorrect or undefined results if missing data (NaN) is not handled.\n",
    "\n",
    "🔹 3. Improves Model Performance\n",
    "In machine learning, most algorithms cannot handle missing data directly, so it must be addressed (e.g., imputation or removal) before training.\n",
    "\n",
    "🔹 4. Ensures Data Consistency\n",
    "Incomplete data can lead to biased or inconsistent decisions. Cleaning and filling gaps ensures better data integrity.\n",
    "\n",
    "🔹 5. Enables Better Visualization\n",
    "Plots and charts may misrepresent trends or distributions if missing values are present, leading to incorrect interpretations."
   ]
  },
  {
   "cell_type": "raw",
   "id": "7a194682-983a-4a33-8efd-e496f3c9acd3",
   "metadata": {},
   "source": [
    "Q.14) What are the benefits of using Plotly for data visualization?\n",
    "Plotly offers several powerful benefits for data visualization in Python, making it a popular choice for interactive and high-quality plots:\n",
    "\n",
    "🔹 1. Interactivity\n",
    "Plotly charts are interactive by default—you can zoom, pan, hover, and select data points without writing extra code. This makes data exploration more intuitive.\n",
    "\n",
    "🔹 2. Wide Range of Chart Types\n",
    "Plotly supports:\n",
    "\n",
    "Line, bar, and scatter plots\n",
    "\n",
    "3D plots\n",
    "\n",
    "Heatmaps\n",
    "\n",
    "Pie charts\n",
    "\n",
    "Maps (geospatial plots)\n",
    "\n",
    "Dashboards via Plotly Dash\n",
    "\n",
    "🔹 3. High-Quality Visuals\n",
    "It produces publication-ready visuals with smooth rendering and customization, ideal for presentations and dashboards.\n",
    "\n",
    "🔹 4. Web Integration\n",
    "Plotly is built on top of JavaScript (D3.js), so visualizations can be easily embedded in websites or shared via HTML.\n",
    "\n",
    "🔹 5. Dash Integration\n",
    "With Plotly Dash, you can build interactive web-based analytics applications entirely in Python, without needing front-end knowledge.\n",
    "\n",
    "🔹 6. User-Friendly Syntax\n",
    "Plotly Express (a high-level API in Plotly) allows quick and concise plotting with just a few lines of code.\n",
    "\n",
    "🔹 7. Cross-platform Compatibility\n",
    "It works in Jupyter Notebooks, VS Code, web browsers, and Dash apps, providing consistent visuals across environments."
   ]
  },
  {
   "cell_type": "raw",
   "id": "88ea48ff-2cfa-4015-93e5-429917a5fc28",
   "metadata": {},
   "source": [
    "Q.15) How does NumPy handle multidimensional arrays?\n",
    "Uses ndarray object: NumPy stores data in a powerful n-dimensional array structure called ndarray.\n",
    "\n",
    "Supports multiple dimensions: Arrays can be 1D, 2D, 3D, or higher (e.g., tensors).\n",
    "\n",
    "Efficient memory storage: Data is stored in contiguous memory blocks, enabling fast access and manipulation.\n",
    "\n",
    "Shape and dimensionality: Every array has a .shape (dimensions of the array) and .ndim (number of dimensions) attribute.\n",
    "\n",
    "Vectorized operations: Allows arithmetic and logical operations directly on arrays without explicit loops.\n",
    "\n",
    "Broadcasting: Enables operations between arrays of different shapes in a consistent and memory-efficient way.\n",
    "\n",
    "Axis-based computations: Functions can operate along specific axes (e.g., sum along rows or columns).\n",
    "\n",
    "Advanced indexing and slicing: Supports powerful methods for accessing and modifying data across dimensions.\n",
    "\n",
    "Better performance: Much faster than nested Python lists for large-scale numerical tasks.\n",
    "\n",
    "Integration with other tools: Easily integrates with libraries like Pandas, Matplotlib, and SciPy."
   ]
  },
  {
   "cell_type": "raw",
   "id": "192b14e1-d991-4bbf-a073-5d67bda2f728",
   "metadata": {},
   "source": [
    "Q.16) A What is the role of Bokeh in data visualization?\n",
    "Bokeh in data visualization:\n",
    "\n",
    "Interactive Visualizations:\n",
    "Bokeh allows you to build interactive plots with zoom, pan, hover, and tooltips.\n",
    "\n",
    "Web Integration:\n",
    "It generates plots that can be embedded in web applications using HTML and JavaScript.\n",
    "\n",
    "Real-Time Data:\n",
    "Bokeh supports streaming and real-time data updates, making it suitable for dashboards.\n",
    "\n",
    "High-Level Interface:\n",
    "Provides a simple API for creating common charts like bar, line, scatter, and heatmaps.\n",
    "\n",
    "Customizable Layouts:\n",
    "Enables combining multiple plots into layouts such as rows, columns, and grids.\n",
    "\n",
    "Supports Large Datasets:\n",
    "Optimized to handle large datasets efficiently for rendering in the browser.\n",
    "\n",
    "Server Deployment:\n",
    "Bokeh comes with a Bokeh Server to build interactive web apps using Python callbacks.\n",
    "\n",
    "Integration with Pandas:\n",
    "Easily integrates with Pandas DataFrames for seamless plotting of structured data."
   ]
  },
  {
   "cell_type": "raw",
   "id": "b585d6ea-102b-4765-9965-8ac42aeb81b8",
   "metadata": {},
   "source": [
    "Q.17) Explain the difference between apply() and map() in Pandas?\n",
    "🔹 map()\n",
    "Used with Series only\n",
    "\n",
    "Applies a function element-wise to each value in a Series\n",
    "\n",
    "Good for simple transformations like changing or mapping values\n",
    "\n",
    "Example use: Replace or transform values in a single column\n",
    "\n",
    "🔹 apply()\n",
    "Works with both Series and DataFrame\n",
    "\n",
    "Applies a function along an axis (row-wise or column-wise) in a DataFrame, or element-wise in a Series\n",
    "\n",
    "More flexible and powerful than map()\n",
    "\n",
    "Example use: Perform row/column-wise computations or apply complex logic"
   ]
  },
  {
   "cell_type": "raw",
   "id": "e6ddfa42-15ce-478c-8328-917d46fb0328",
   "metadata": {},
   "source": [
    "Q.18) What are some advanced features of NumPy?\n",
    "✅ 1. Broadcasting\n",
    "Allows arithmetic operations between arrays of different shapes.\n",
    "\n",
    "Eliminates the need for looping when performing operations on mismatched arrays.\n",
    "\n",
    "✅ 2. Vectorization\n",
    "Applies operations on entire arrays without explicit loops.\n",
    "\n",
    "Makes code faster and more readable by using optimized C-based operations.\n",
    "\n",
    "✅ 3. Masked Arrays\n",
    "Handles invalid or missing data in arrays.\n",
    "\n",
    "Supports operations while ignoring masked (invalid) elements.\n",
    "\n",
    "✅ 4. Structured Arrays\n",
    "Allows you to store mixed data types (like a DataFrame) in a single NumPy array.\n",
    "\n",
    "Useful for datasets with columns of different types.\n",
    "\n",
    "✅ 5. Memory Mapping of Arrays\n",
    "Lets you access large files on disk as if they were NumPy arrays.\n",
    "\n",
    "Useful for processing datasets that don’t fit into memory.\n",
    "\n",
    "✅ 6. Universal Functions (ufuncs)\n",
    "Vectorized functions that operate on NumPy arrays element-wise.\n",
    "\n",
    "Supports operations like np.add, np.exp, np.sin, etc.\n",
    "\n",
    "✅ 7. Advanced Indexing and Slicing\n",
    "Allows access to elements using conditions, slices, and arrays of indices.\n",
    "\n",
    "Enables powerful subsetting, filtering, and reshaping.\n",
    "\n",
    "✅ 8. Linear Algebra Operations\n",
    "Includes matrix multiplication, inverse, eigenvalues, decomposition, etc.\n",
    "\n",
    "Provided via numpy.linalg module.\n",
    "\n",
    "✅ 9. Fourier Transform and Signal Processing\n",
    "Fast Fourier Transforms (FFT) using numpy.fft\n",
    "\n",
    "Used in signal processing, frequency analysis, etc.\n",
    "\n",
    "✅ 10. Random Number Generation\n",
    "Powerful suite of random functions (numpy.random) for simulations and probabilistic models."
   ]
  },
  {
   "cell_type": "raw",
   "id": "849446ff-519e-463f-b374-eb5e98daeae5",
   "metadata": {},
   "source": [
    "Q.19) How does Pandas simplify time series analysis?\n",
    "✅ 1. Date and Time Handling\n",
    "Pandas supports datetime objects and provides pd.to_datetime() to convert strings to datetime.\n",
    "\n",
    "Automatically parses and handles date formats.\n",
    "\n",
    "✅ 2. Datetime Indexing\n",
    "You can set the index of a DataFrame to a DatetimeIndex for time-based indexing.\n",
    "\n",
    "Enables powerful slicing like df['2023'], df['2023-01'].\n",
    "\n",
    "✅ 3. Resampling\n",
    "Easily change frequency of time series data (e.g., from daily to monthly) using .resample().\n",
    "\n",
    "Supports aggregation (mean, sum, etc.) on new time intervals.\n",
    "\n",
    "✅ 4. Time-Based Grouping\n",
    "Use groupby() with time periods (e.g., year, month) to summarize data across time.\n",
    "\n",
    "✅ 5. Date Range Generation\n",
    "Generate time-based sequences with pd.date_range() (e.g., daily, hourly).\n",
    "\n",
    "✅ 6. Time Zone Handling\n",
    "Supports time zone conversions with .tz_localize() and .tz_convert().\n",
    "\n",
    "✅ 7. Shifting and Lagging\n",
    "Easily shift data forward or backward in time using .shift() and .tshift() for lag analysis.\n",
    "\n",
    "✅ 8. Rolling Window Calculations\n",
    "Calculate moving averages and other rolling statistics with .rolling().\n",
    "\n",
    "✅ 9. Period and Timedelta Support\n",
    "Supports Period and Timedelta types for more granular time computations.\n",
    "\n",
    "✅ 10. Plotting Time Series\n",
    "Integrated plotting support (.plot()) automatically formats date labels."
   ]
  },
  {
   "cell_type": "raw",
   "id": "89e62a5e-0776-4fc7-bc84-d7e586645015",
   "metadata": {},
   "source": [
    "Q.20) What is the role of a pivot table in Pandas?\n",
    "Role of a Pivot Table in Pandas:\n",
    "Data Summarization\n",
    "\n",
    "It helps aggregate data using functions like sum(), mean(), count(), etc.\n",
    "\n",
    "Grouping by Multiple Categories\n",
    "\n",
    "You can group data by one or more keys (columns) to examine trends or patterns.\n",
    "\n",
    "Restructuring the DataFrame\n",
    "\n",
    "It allows you to reorganize data by turning unique values of one column into columns themselves (wide format).\n",
    "\n",
    "Cross-tabulation\n",
    "\n",
    "Similar to Excel’s cross-tab, it shows a 2D summary of data based on two (or more) variables.\n",
    "\n",
    "Missing Data Handling\n",
    "\n",
    "Pivot tables can fill missing values using the fill_value parameter.\n",
    "\n",
    "Multi-Level Indexing (Hierarchical)\n",
    "\n",
    "Useful for creating multi-level summaries using multiple index/column combinations.\n",
    "\n",
    "Enhanced Analysis\n",
    "\n",
    "Helps to compare metrics across categories like regions, time periods, or product types."
   ]
  },
  {
   "cell_type": "raw",
   "id": "4d5bb458-6c76-45c5-a0b6-b674cd1fbec2",
   "metadata": {},
   "source": [
    "Q.21) Why is NumPy’s array slicing faster than Python’s list slicing?\n",
    "✅ 1. Homogeneous Data Types\n",
    "NumPy arrays store elements of the same data type in contiguous memory blocks.\n",
    "\n",
    "Python lists can store mixed types, which makes their memory layout more complex and less efficient.\n",
    "\n",
    "✅ 2. Contiguous Memory Allocation\n",
    "NumPy arrays are stored in contiguous blocks of memory, allowing direct access via pointers.\n",
    "\n",
    "This enables faster computation and slicing without creating new objects.\n",
    "\n",
    "✅ 3. Slicing Creates a View (Not a Copy)\n",
    "In NumPy, slicing usually returns a view of the original array (not a copy), which avoids unnecessary memory usage.\n",
    "\n",
    "Python list slicing creates a new list every time, which is slower and uses more memory.\n",
    "\n",
    "✅ 4. Underlying C Implementation\n",
    "NumPy is written in C, a low-level language optimized for performance.\n",
    "\n",
    "Array operations, including slicing, are handled at the C level, making them significantly faster.\n",
    "\n",
    "✅ 5. Vectorized Operations\n",
    "NumPy supports vectorized operations, allowing bulk data processing without explicit loops.\n",
    "\n",
    "Python lists need loops or comprehensions, which are slower in interpreted Python."
   ]
  },
  {
   "cell_type": "raw",
   "id": "87d146a3-f232-407d-98e1-16fa7caaa437",
   "metadata": {},
   "source": [
    "Q.22) What are some common use cases for Seaborn?\n",
    "✅ 1. Exploratory Data Analysis (EDA)\n",
    "Quickly visualize distributions, relationships, and trends in datasets.\n",
    "\n",
    "Identify patterns, outliers, or anomalies.\n",
    "\n",
    "✅ 2. Visualizing Distributions\n",
    "Use histplot, kdeplot, and distplot (deprecated) to understand how data is distributed.\n",
    "\n",
    "✅ 3. Comparing Categories\n",
    "Use boxplot, violinplot, and barplot to compare numerical data across categorical groups.\n",
    "\n",
    "✅ 4. Analyzing Relationships\n",
    "Use scatterplot, lineplot, or regplot to explore relationships between two or more variables.\n",
    "\n",
    "✅ 5. Heatmaps for Correlation or Pivot Tables\n",
    "Visualize correlation matrices or tabular data using heatmap to detect relationships and trends.\n",
    "\n",
    "✅ 6. Time Series Analysis\n",
    "Plot trends over time using lineplot with time-based data.\n",
    "\n",
    "✅ 7. Faceted Plots\n",
    "Use FacetGrid or catplot to create multiple plots based on subsets of the data for comparison.\n",
    "\n",
    "✅ 8. Pairwise Relationships\n",
    "Use pairplot to visualize pairwise relationships in multidimensional datasets.\n",
    "\n",
    "✅ 9. Customizing Plot Styles\n",
    "Apply consistent, professional-looking styles and color palettes with ease."
   ]
  },
  {
   "cell_type": "code",
   "execution_count": null,
   "id": "b528d216-6517-4ed0-bef0-7443a35a4d27",
   "metadata": {},
   "outputs": [],
   "source": [
    "#Practical Questions"
   ]
  },
  {
   "cell_type": "code",
   "execution_count": 1,
   "id": "b904cc06-14a3-49d7-b301-36bca6ca4591",
   "metadata": {},
   "outputs": [
    {
     "name": "stdout",
     "output_type": "stream",
     "text": [
      "2_D array:\n",
      "[[1 2 3]\n",
      " [4 5 6]\n",
      " [7 8 9]]\n",
      "sum of each row: [ 6 15 24]\n"
     ]
    }
   ],
   "source": [
    "#Q.1\n",
    "import numpy as np\n",
    "arr=np.array([[1,2,3],\n",
    "              [4,5,6],\n",
    "              [7,8,9]])\n",
    "\n",
    "rows_sum=np.sum(arr,axis=1)\n",
    "\n",
    "print(\"2_D array:\")\n",
    "print(arr)\n",
    "print(\"sum of each row:\",rows_sum)"
   ]
  },
  {
   "cell_type": "code",
   "execution_count": 2,
   "id": "e5eeb46a-5dba-4761-aaa4-8baca2899ba6",
   "metadata": {},
   "outputs": [
    {
     "name": "stdout",
     "output_type": "stream",
     "text": [
      "mean of marks: 45.0\n"
     ]
    }
   ],
   "source": [
    "#Q.2\n",
    "import pandas as pd\n",
    "data={\n",
    "    'Name':['Shubh','Krishna','Harry','Kat'],\n",
    "    'Marks':[30,40,50,60]\n",
    "}\n",
    "\n",
    "df=pd.DataFrame(data)\n",
    "mean_marks=df['Marks'].mean()\n",
    "\n",
    "print(\"mean of marks:\",(mean_marks))"
   ]
  },
  {
   "cell_type": "code",
   "execution_count": 3,
   "id": "d80a1c8e-a580-4300-9819-1ae70b619f2b",
   "metadata": {},
   "outputs": [
    {
     "data": {
      "image/png": "[encoded data removed]",
      "text/plain": [
       "<Figure size 640x480 with 1 Axes>"
      ]
     },
     "metadata": {},
     "output_type": "display_data"
    }
   ],
   "source": [
    "#Q.3\n",
    "import matplotlib.pyplot as plt\n",
    "x=[1,2,3,4,5]\n",
    "y=[2,4,6,8,7]\n",
    "plt.scatter(x,y, colorizer='blue',marker='o',label='Data points')\n",
    "\n",
    "plt.xlabel('X-axis')\n",
    "plt.ylabel('Y-axis')\n",
    "plt.title('scatter plot')\n",
    "plt.legend()\n",
    "\n",
    "plt.show()"
   ]
  },
  {
   "cell_type": "code",
   "execution_count": 4,
   "id": "ae4a6422-08bf-4c6d-978c-04f33c9176c8",
   "metadata": {},
   "outputs": [
    {
     "name": "stdout",
     "output_type": "stream",
     "text": [
      "               Math   Physics  Chemistry   Biology\n",
      "Math       1.000000  0.990979  -0.946692  0.998710\n",
      "Physics    0.990979  1.000000  -0.913938  0.984243\n",
      "Chemistry -0.946692 -0.913938   1.000000 -0.944733\n",
      "Biology    0.998710  0.984243  -0.944733  1.000000\n"
     ]
    },
    {
     "data": {
      "image/png": "[encoded data removed]",
      "text/plain": [
       "<Figure size 640x480 with 2 Axes>"
      ]
     },
     "metadata": {},
     "output_type": "display_data"
    }
   ],
   "source": [
    "#Q.4\n",
    "import pandas as pd\n",
    "import seaborn as sns\n",
    "import matplotlib.pyplot as plt\n",
    "\n",
    "data={\n",
    "    'Math':[50,60,70,80],\n",
    "    'Physics':[54,60,68,79],\n",
    "    'Chemistry':[98,50,45,20],\n",
    "    'Biology':[55,67,80,90]\n",
    "}\n",
    "df=pd.DataFrame(data)\n",
    "corr=df.corr()\n",
    "print(corr)\n",
    "\n",
    "sns.heatmap(corr, annot=True, cmap='coolwarm', linewidths=0.5)\n",
    "plt.title(\"correlation matrix heatmap\")\n",
    "plt.show()"
   ]
  },
  {
   "cell_type": "code",
   "execution_count": 8,
   "id": "a34aa791-bb32-4402-894f-a93d8a27f169",
   "metadata": {},
   "outputs": [],
   "source": [
    "#Q.5\n",
    "import plotly.express as px\n",
    "import plotly.io as pio\n",
    "import pandas as pd\n",
    "\n",
    "pio.renderers.default = 'browser'\n",
    "data={\n",
    "    'Fruits':['Apple','Mango','Strawberry','Banana'],\n",
    "    'Quantity':[40,50,60,80]\n",
    "}\n",
    "\n",
    "df=pd.DataFrame(data)\n",
    "fig=px.bar(df, x='Fruits', y='Quantity', title='fruit quantity bar plot', width=600)\n",
    "\n",
    "fig.show()"
   ]
  },
  {
   "cell_type": "code",
   "execution_count": null,
   "id": "7c587f5c-54e0-4e58-9890-ba4a21fe34e4",
   "metadata": {},
   "outputs": [],
   "source": [
    "#Q.6\n",
    "import pandas as pd\n",
    "data={\n",
    "    'Student':['Shubh','Krishna','Harry','Krish'],\n",
    "    'Marks':[40,50,60,70]\n",
    "}\n",
    "\n",
    "df=pd.DataFrame(data)\n",
    "df['Bonus']=df['Marks']*0.1\n",
    "\n",
    "print(df)"
   ]
  },
  {
   "cell_type": "code",
   "execution_count": 9,
   "id": "f92fa18d-e9b6-4031-892b-9f27316e14a2",
   "metadata": {},
   "outputs": [
    {
     "name": "stdout",
     "output_type": "stream",
     "text": [
      "array1: [1 2 3 4 5]\n",
      "array2: [ 2  4  6  8 10]\n",
      "product of two arrays [ 2  8 18 32 50]\n"
     ]
    }
   ],
   "source": [
    "#Q.7\n",
    "import numpy as np\n",
    "array1=np.array([1,2,3,4,5])\n",
    "array2=np.array([2,4,6,8,10])\n",
    "result=array1*array2\n",
    "print(\"array1:\",array1)\n",
    "print(\"array2:\",array2)\n",
    "print(\"product of two arrays\",result)"
   ]
  },
  {
   "cell_type": "code",
   "execution_count": 10,
   "id": "809dbf9b-c75a-4a30-8366-98e815c3d559",
   "metadata": {},
   "outputs": [
    {
     "data": {
      "image/png": "[encoded data removed]",
      "text/plain": [
       "<Figure size 640x480 with 1 Axes>"
      ]
     },
     "metadata": {},
     "output_type": "display_data"
    }
   ],
   "source": [
    "#Q.8\n",
    "import matplotlib.pyplot as plt\n",
    "x=[20,40,60,80,100]\n",
    "y1=[24,44,64,74,84]\n",
    "y2=[10,20,30,40,50]\n",
    "y3=[17,34,46,67,88]\n",
    "\n",
    "plt.plot(x, y1, label='line1', color='blue', marker='o')\n",
    "plt.plot(x, y2, label='line2', color='green', marker='s')\n",
    "plt.plot(x, y3, label='line3', color='red', marker='^')\n",
    "\n",
    "plt.title='Multiple line plot'\n",
    "plt.xlabel='X-axis'\n",
    "plt.ylabel='Y-axis'\n",
    "\n",
    "plt.legend()\n",
    "\n",
    "plt.grid(True)\n",
    "plt.show()"
   ]
  },
  {
   "cell_type": "code",
   "execution_count": 2,
   "id": "14eaafb5-76fc-4014-9fe4-138c9c4d65de",
   "metadata": {},
   "outputs": [
    {
     "name": "stdout",
     "output_type": "stream",
     "text": [
      "    Name  Marks\n",
      "3  Panda     74\n",
      "4   Subh     88\n"
     ]
    }
   ],
   "source": [
    "#Q.9\n",
    "import pandas as pd\n",
    "data={\n",
    "    'Name':['Harry','Shubh','Krishna','Panda','Subh'],\n",
    "    'Marks':[40,50,61,74,88]\n",
    "}\n",
    "\n",
    "df=pd.DataFrame(data)\n",
    "filtered_df=df[df['Marks']>61]\n",
    "\n",
    "print(filtered_df)"
   ]
  },
  {
   "cell_type": "code",
   "execution_count": 1,
   "id": "a1924cc7-7a50-46c8-b514-06df8ee58a80",
   "metadata": {},
   "outputs": [
    {
     "data": {
      "image/png": "[encoded data removed]",
      "text/plain": [
       "<Figure size 640x480 with 1 Axes>"
      ]
     },
     "metadata": {},
     "output_type": "display_data"
    }
   ],
   "source": [
    "#Q.10\n",
    "import seaborn as sns\n",
    "import matplotlib.pyplot as plt\n",
    "import pandas as pd\n",
    "\n",
    "data={\n",
    "    'Marks':[20,30,40,50,60,10,50,60,80,30,70,40,50,90,60]\n",
    "}\n",
    "\n",
    "df=pd.DataFrame(data)\n",
    "sns.histplot(df['Marks'],bins=8, kde=True, color='skyblue')\n",
    "\n",
    "plt.title(\"Distribution of student marks\")\n",
    "plt.xlabel('Marks')\n",
    "plt.ylabel('Frequency')\n",
    "\n",
    "plt.show()"
   ]
  },
  {
   "cell_type": "code",
   "execution_count": 3,
   "id": "404f76a4-8035-4093-9ea8-79569184815f",
   "metadata": {},
   "outputs": [
    {
     "name": "stdout",
     "output_type": "stream",
     "text": [
      "[[22 25]\n",
      " [50 57]]\n"
     ]
    }
   ],
   "source": [
    "#Q.11\n",
    "import numpy as np\n",
    "\n",
    "A=np.array([[1,2],[3,4]])\n",
    "B=np.array([[6,7],[8,9]])\n",
    "\n",
    "result=A@B\n",
    "print(result)"
   ]
  },
  {
   "cell_type": "code",
   "execution_count": 4,
   "id": "b24deb12-72c9-4394-8000-8988bbac25fb",
   "metadata": {},
   "outputs": [
    {
     "ename": "FileNotFoundError",
     "evalue": "[Errno 2] No such file or directory: 'people.csv'",
     "output_type": "error",
     "traceback": [
      "\u001b[31m---------------------------------------------------------------------------\u001b[39m",
      "\u001b[31mFileNotFoundError\u001b[39m                         Traceback (most recent call last)",
      "\u001b[36mCell\u001b[39m\u001b[36m \u001b[39m\u001b[32mIn[4]\u001b[39m\u001b[32m, line 3\u001b[39m\n\u001b[32m      1\u001b[39m \u001b[38;5;66;03m#Q.12\u001b[39;00m\n\u001b[32m      2\u001b[39m \u001b[38;5;28;01mimport\u001b[39;00m\u001b[38;5;250m \u001b[39m\u001b[34;01mpandas\u001b[39;00m\u001b[38;5;250m \u001b[39m\u001b[38;5;28;01mas\u001b[39;00m\u001b[38;5;250m \u001b[39m\u001b[34;01mpd\u001b[39;00m\n\u001b[32m----> \u001b[39m\u001b[32m3\u001b[39m df=\u001b[43mpd\u001b[49m\u001b[43m.\u001b[49m\u001b[43mread_csv\u001b[49m\u001b[43m(\u001b[49m\u001b[33;43m'\u001b[39;49m\u001b[33;43mpeople.csv\u001b[39;49m\u001b[33;43m'\u001b[39;49m\u001b[43m)\u001b[49m\n\u001b[32m      5\u001b[39m \u001b[38;5;28mprint\u001b[39m(df.head())\n",
      "\u001b[36mFile \u001b[39m\u001b[32m~\\AppData\\Local\\Programs\\Python\\Python312\\Lib\\site-packages\\pandas\\io\\parsers\\readers.py:1026\u001b[39m, in \u001b[36mread_csv\u001b[39m\u001b[34m(filepath_or_buffer, sep, delimiter, header, names, index_col, usecols, dtype, engine, converters, true_values, false_values, skipinitialspace, skiprows, skipfooter, nrows, na_values, keep_default_na, na_filter, verbose, skip_blank_lines, parse_dates, infer_datetime_format, keep_date_col, date_parser, date_format, dayfirst, cache_dates, iterator, chunksize, compression, thousands, decimal, lineterminator, quotechar, quoting, doublequote, escapechar, comment, encoding, encoding_errors, dialect, on_bad_lines, delim_whitespace, low_memory, memory_map, float_precision, storage_options, dtype_backend)\u001b[39m\n\u001b[32m   1013\u001b[39m kwds_defaults = _refine_defaults_read(\n\u001b[32m   1014\u001b[39m     dialect,\n\u001b[32m   1015\u001b[39m     delimiter,\n\u001b[32m   (...)\u001b[39m\u001b[32m   1022\u001b[39m     dtype_backend=dtype_backend,\n\u001b[32m   1023\u001b[39m )\n\u001b[32m   1024\u001b[39m kwds.update(kwds_defaults)\n\u001b[32m-> \u001b[39m\u001b[32m1026\u001b[39m \u001b[38;5;28;01mreturn\u001b[39;00m \u001b[43m_read\u001b[49m\u001b[43m(\u001b[49m\u001b[43mfilepath_or_buffer\u001b[49m\u001b[43m,\u001b[49m\u001b[43m \u001b[49m\u001b[43mkwds\u001b[49m\u001b[43m)\u001b[49m\n",
      "\u001b[36mFile \u001b[39m\u001b[32m~\\AppData\\Local\\Programs\\Python\\Python312\\Lib\\site-packages\\pandas\\io\\parsers\\readers.py:620\u001b[39m, in \u001b[36m_read\u001b[39m\u001b[34m(filepath_or_buffer, kwds)\u001b[39m\n\u001b[32m    617\u001b[39m _validate_names(kwds.get(\u001b[33m\"\u001b[39m\u001b[33mnames\u001b[39m\u001b[33m\"\u001b[39m, \u001b[38;5;28;01mNone\u001b[39;00m))\n\u001b[32m    619\u001b[39m \u001b[38;5;66;03m# Create the parser.\u001b[39;00m\n\u001b[32m--> \u001b[39m\u001b[32m620\u001b[39m parser = \u001b[43mTextFileReader\u001b[49m\u001b[43m(\u001b[49m\u001b[43mfilepath_or_buffer\u001b[49m\u001b[43m,\u001b[49m\u001b[43m \u001b[49m\u001b[43m*\u001b[49m\u001b[43m*\u001b[49m\u001b[43mkwds\u001b[49m\u001b[43m)\u001b[49m\n\u001b[32m    622\u001b[39m \u001b[38;5;28;01mif\u001b[39;00m chunksize \u001b[38;5;129;01mor\u001b[39;00m iterator:\n\u001b[32m    623\u001b[39m     \u001b[38;5;28;01mreturn\u001b[39;00m parser\n",
      "\u001b[36mFile \u001b[39m\u001b[32m~\\AppData\\Local\\Programs\\Python\\Python312\\Lib\\site-packages\\pandas\\io\\parsers\\readers.py:1620\u001b[39m, in \u001b[36mTextFileReader.__init__\u001b[39m\u001b[34m(self, f, engine, **kwds)\u001b[39m\n\u001b[32m   1617\u001b[39m     \u001b[38;5;28mself\u001b[39m.options[\u001b[33m\"\u001b[39m\u001b[33mhas_index_names\u001b[39m\u001b[33m\"\u001b[39m] = kwds[\u001b[33m\"\u001b[39m\u001b[33mhas_index_names\u001b[39m\u001b[33m\"\u001b[39m]\n\u001b[32m   1619\u001b[39m \u001b[38;5;28mself\u001b[39m.handles: IOHandles | \u001b[38;5;28;01mNone\u001b[39;00m = \u001b[38;5;28;01mNone\u001b[39;00m\n\u001b[32m-> \u001b[39m\u001b[32m1620\u001b[39m \u001b[38;5;28mself\u001b[39m._engine = \u001b[38;5;28;43mself\u001b[39;49m\u001b[43m.\u001b[49m\u001b[43m_make_engine\u001b[49m\u001b[43m(\u001b[49m\u001b[43mf\u001b[49m\u001b[43m,\u001b[49m\u001b[43m \u001b[49m\u001b[38;5;28;43mself\u001b[39;49m\u001b[43m.\u001b[49m\u001b[43mengine\u001b[49m\u001b[43m)\u001b[49m\n",
      "\u001b[36mFile \u001b[39m\u001b[32m~\\AppData\\Local\\Programs\\Python\\Python312\\Lib\\site-packages\\pandas\\io\\parsers\\readers.py:1880\u001b[39m, in \u001b[36mTextFileReader._make_engine\u001b[39m\u001b[34m(self, f, engine)\u001b[39m\n\u001b[32m   1878\u001b[39m     \u001b[38;5;28;01mif\u001b[39;00m \u001b[33m\"\u001b[39m\u001b[33mb\u001b[39m\u001b[33m\"\u001b[39m \u001b[38;5;129;01mnot\u001b[39;00m \u001b[38;5;129;01min\u001b[39;00m mode:\n\u001b[32m   1879\u001b[39m         mode += \u001b[33m\"\u001b[39m\u001b[33mb\u001b[39m\u001b[33m\"\u001b[39m\n\u001b[32m-> \u001b[39m\u001b[32m1880\u001b[39m \u001b[38;5;28mself\u001b[39m.handles = \u001b[43mget_handle\u001b[49m\u001b[43m(\u001b[49m\n\u001b[32m   1881\u001b[39m \u001b[43m    \u001b[49m\u001b[43mf\u001b[49m\u001b[43m,\u001b[49m\n\u001b[32m   1882\u001b[39m \u001b[43m    \u001b[49m\u001b[43mmode\u001b[49m\u001b[43m,\u001b[49m\n\u001b[32m   1883\u001b[39m \u001b[43m    \u001b[49m\u001b[43mencoding\u001b[49m\u001b[43m=\u001b[49m\u001b[38;5;28;43mself\u001b[39;49m\u001b[43m.\u001b[49m\u001b[43moptions\u001b[49m\u001b[43m.\u001b[49m\u001b[43mget\u001b[49m\u001b[43m(\u001b[49m\u001b[33;43m\"\u001b[39;49m\u001b[33;43mencoding\u001b[39;49m\u001b[33;43m\"\u001b[39;49m\u001b[43m,\u001b[49m\u001b[43m \u001b[49m\u001b[38;5;28;43;01mNone\u001b[39;49;00m\u001b[43m)\u001b[49m\u001b[43m,\u001b[49m\n\u001b[32m   1884\u001b[39m \u001b[43m    \u001b[49m\u001b[43mcompression\u001b[49m\u001b[43m=\u001b[49m\u001b[38;5;28;43mself\u001b[39;49m\u001b[43m.\u001b[49m\u001b[43moptions\u001b[49m\u001b[43m.\u001b[49m\u001b[43mget\u001b[49m\u001b[43m(\u001b[49m\u001b[33;43m\"\u001b[39;49m\u001b[33;43mcompression\u001b[39;49m\u001b[33;43m\"\u001b[39;49m\u001b[43m,\u001b[49m\u001b[43m \u001b[49m\u001b[38;5;28;43;01mNone\u001b[39;49;00m\u001b[43m)\u001b[49m\u001b[43m,\u001b[49m\n\u001b[32m   1885\u001b[39m \u001b[43m    \u001b[49m\u001b[43mmemory_map\u001b[49m\u001b[43m=\u001b[49m\u001b[38;5;28;43mself\u001b[39;49m\u001b[43m.\u001b[49m\u001b[43moptions\u001b[49m\u001b[43m.\u001b[49m\u001b[43mget\u001b[49m\u001b[43m(\u001b[49m\u001b[33;43m\"\u001b[39;49m\u001b[33;43mmemory_map\u001b[39;49m\u001b[33;43m\"\u001b[39;49m\u001b[43m,\u001b[49m\u001b[43m \u001b[49m\u001b[38;5;28;43;01mFalse\u001b[39;49;00m\u001b[43m)\u001b[49m\u001b[43m,\u001b[49m\n\u001b[32m   1886\u001b[39m \u001b[43m    \u001b[49m\u001b[43mis_text\u001b[49m\u001b[43m=\u001b[49m\u001b[43mis_text\u001b[49m\u001b[43m,\u001b[49m\n\u001b[32m   1887\u001b[39m \u001b[43m    \u001b[49m\u001b[43merrors\u001b[49m\u001b[43m=\u001b[49m\u001b[38;5;28;43mself\u001b[39;49m\u001b[43m.\u001b[49m\u001b[43moptions\u001b[49m\u001b[43m.\u001b[49m\u001b[43mget\u001b[49m\u001b[43m(\u001b[49m\u001b[33;43m\"\u001b[39;49m\u001b[33;43mencoding_errors\u001b[39;49m\u001b[33;43m\"\u001b[39;49m\u001b[43m,\u001b[49m\u001b[43m \u001b[49m\u001b[33;43m\"\u001b[39;49m\u001b[33;43mstrict\u001b[39;49m\u001b[33;43m\"\u001b[39;49m\u001b[43m)\u001b[49m\u001b[43m,\u001b[49m\n\u001b[32m   1888\u001b[39m \u001b[43m    \u001b[49m\u001b[43mstorage_options\u001b[49m\u001b[43m=\u001b[49m\u001b[38;5;28;43mself\u001b[39;49m\u001b[43m.\u001b[49m\u001b[43moptions\u001b[49m\u001b[43m.\u001b[49m\u001b[43mget\u001b[49m\u001b[43m(\u001b[49m\u001b[33;43m\"\u001b[39;49m\u001b[33;43mstorage_options\u001b[39;49m\u001b[33;43m\"\u001b[39;49m\u001b[43m,\u001b[49m\u001b[43m \u001b[49m\u001b[38;5;28;43;01mNone\u001b[39;49;00m\u001b[43m)\u001b[49m\u001b[43m,\u001b[49m\n\u001b[32m   1889\u001b[39m \u001b[43m\u001b[49m\u001b[43m)\u001b[49m\n\u001b[32m   1890\u001b[39m \u001b[38;5;28;01massert\u001b[39;00m \u001b[38;5;28mself\u001b[39m.handles \u001b[38;5;129;01mis\u001b[39;00m \u001b[38;5;129;01mnot\u001b[39;00m \u001b[38;5;28;01mNone\u001b[39;00m\n\u001b[32m   1891\u001b[39m f = \u001b[38;5;28mself\u001b[39m.handles.handle\n",
      "\u001b[36mFile \u001b[39m\u001b[32m~\\AppData\\Local\\Programs\\Python\\Python312\\Lib\\site-packages\\pandas\\io\\common.py:873\u001b[39m, in \u001b[36mget_handle\u001b[39m\u001b[34m(path_or_buf, mode, encoding, compression, memory_map, is_text, errors, storage_options)\u001b[39m\n\u001b[32m    868\u001b[39m \u001b[38;5;28;01melif\u001b[39;00m \u001b[38;5;28misinstance\u001b[39m(handle, \u001b[38;5;28mstr\u001b[39m):\n\u001b[32m    869\u001b[39m     \u001b[38;5;66;03m# Check whether the filename is to be opened in binary mode.\u001b[39;00m\n\u001b[32m    870\u001b[39m     \u001b[38;5;66;03m# Binary mode does not support 'encoding' and 'newline'.\u001b[39;00m\n\u001b[32m    871\u001b[39m     \u001b[38;5;28;01mif\u001b[39;00m ioargs.encoding \u001b[38;5;129;01mand\u001b[39;00m \u001b[33m\"\u001b[39m\u001b[33mb\u001b[39m\u001b[33m\"\u001b[39m \u001b[38;5;129;01mnot\u001b[39;00m \u001b[38;5;129;01min\u001b[39;00m ioargs.mode:\n\u001b[32m    872\u001b[39m         \u001b[38;5;66;03m# Encoding\u001b[39;00m\n\u001b[32m--> \u001b[39m\u001b[32m873\u001b[39m         handle = \u001b[38;5;28;43mopen\u001b[39;49m\u001b[43m(\u001b[49m\n\u001b[32m    874\u001b[39m \u001b[43m            \u001b[49m\u001b[43mhandle\u001b[49m\u001b[43m,\u001b[49m\n\u001b[32m    875\u001b[39m \u001b[43m            \u001b[49m\u001b[43mioargs\u001b[49m\u001b[43m.\u001b[49m\u001b[43mmode\u001b[49m\u001b[43m,\u001b[49m\n\u001b[32m    876\u001b[39m \u001b[43m            \u001b[49m\u001b[43mencoding\u001b[49m\u001b[43m=\u001b[49m\u001b[43mioargs\u001b[49m\u001b[43m.\u001b[49m\u001b[43mencoding\u001b[49m\u001b[43m,\u001b[49m\n\u001b[32m    877\u001b[39m \u001b[43m            \u001b[49m\u001b[43merrors\u001b[49m\u001b[43m=\u001b[49m\u001b[43merrors\u001b[49m\u001b[43m,\u001b[49m\n\u001b[32m    878\u001b[39m \u001b[43m            \u001b[49m\u001b[43mnewline\u001b[49m\u001b[43m=\u001b[49m\u001b[33;43m\"\u001b[39;49m\u001b[33;43m\"\u001b[39;49m\u001b[43m,\u001b[49m\n\u001b[32m    879\u001b[39m \u001b[43m        \u001b[49m\u001b[43m)\u001b[49m\n\u001b[32m    880\u001b[39m     \u001b[38;5;28;01melse\u001b[39;00m:\n\u001b[32m    881\u001b[39m         \u001b[38;5;66;03m# Binary mode\u001b[39;00m\n\u001b[32m    882\u001b[39m         handle = \u001b[38;5;28mopen\u001b[39m(handle, ioargs.mode)\n",
      "\u001b[31mFileNotFoundError\u001b[39m: [Errno 2] No such file or directory: 'people.csv'"
     ]
    }
   ],
   "source": [
    "#Q.12\n",
    "import pandas as pd\n",
    "df=pd.read_csv('people.csv')\n",
    "\n",
    "print(df.head())"
   ]
  },
  {
   "cell_type": "code",
   "execution_count": 7,
   "id": "3ad71221-ecd9-4e30-9649-8aab29213dcd",
   "metadata": {},
   "outputs": [],
   "source": [
    "#Q.13\n",
    "import plotly.express as px\n",
    "import pandas as pd\n",
    "import plotly.io as pio\n",
    "\n",
    "pio.renderers.default='browser'\n",
    "data={\n",
    "    'x':[2,3,4,5,6],\n",
    "    'y':[4,5,6,7,8],\n",
    "    'z':[10,13,15,17,49],\n",
    "}\n",
    "df=pd.DataFrame(data)\n",
    "fig=px.scatter_3d(df,x='x',y='y',z='z', color_discrete_sequence=['blue'])\n",
    "\n",
    "fig.show()\n"
   ]
  }
 ],
 "metadata": {
  "kernelspec": {
   "display_name": "Python 3 (ipykernel)",
   "language": "python",
   "name": "python3"
  },
  "language_info": {
   "codemirror_mode": {
    "name": "ipython",
    "version": 3
   },
   "file_extension": ".py",
   "mimetype": "text/x-python",
   "name": "python",
   "nbconvert_exporter": "python",
   "pygments_lexer": "ipython3",
   "version": "3.12.7"
  }
 },
 "nbformat": 4,
 "nbformat_minor": 5
}
